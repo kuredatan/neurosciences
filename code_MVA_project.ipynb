{
 "cells": [
  {
   "cell_type": "markdown",
   "metadata": {},
   "source": [
    "# Code for the project in \"Modélisation en neurosciences et ailleurs\" class (MVA 2018-2019) by Clémence Réda\n",
    "\n",
    "This notebook aims at extending and analyzing the results in the paper \"**Modern Machine Learning as\n",
    "a Benchmark for Fitting Neural Responses**\" [Benjamin et al., 2018](https://www.ncbi.nlm.nih.gov/pmc/articles/PMC6060269/pdf/fncom-12-00056.pdf). I will proceed as follows:\n",
    "\n",
    "+ I will test the Poisson assumption of the neuron spiking statistics on several datasets.\n",
    "+ I will try to reproduce the results of the paper (comparison between GLM, Feedforward neural network, Gradient-boosted trees) on other datasets from another lab, in order to externally validate the results of the paper.\n",
    "\n",
    "All code except for this notebook has been written by Benjamin and collaborators, and has been made available at this [repository](https://github.com/KordingLab/spykesML).\n"
   ]
  },
  {
   "cell_type": "markdown",
   "metadata": {},
   "source": [
    "## Libraries and modules"
   ]
  },
  {
   "cell_type": "code",
   "execution_count": 1,
   "metadata": {},
   "outputs": [],
   "source": [
    "import warnings\n",
    "\n",
    "import numpy as np\n",
    "import pandas as pd\n",
    "import scipy\n",
    "import scipy.io"
   ]
  },
  {
   "cell_type": "markdown",
   "metadata": {},
   "source": [
    "##### Load encoding package (file *mlencoding.py* from the GitHub of the authors of the paper)"
   ]
  },
  {
   "cell_type": "code",
   "execution_count": 2,
   "metadata": {},
   "outputs": [
    {
     "name": "stderr",
     "output_type": "stream",
     "text": [
      "Using TensorFlow backend.\n"
     ]
    }
   ],
   "source": [
    "from mlencoding import *"
   ]
  },
  {
   "cell_type": "markdown",
   "metadata": {},
   "source": [
    "# 0. Statistics of spiking neurons\n",
    "\n",
    "I would like to assess the similarity of the distribution of spiking neurons with Poisson distributions, since it is a common assumption in the field. I will use the following datasets:\n",
    "\n",
    "+ Two datasets ([Macaque M1](http://crcns.org/data-sets/movements/dream/downloading-dream), from [Stevenston et al. 2011](http://jn.physiology.org/content/106/2/764.short), and [Rhesus Macaque S1](https://github.com/KordingLab/spykesML), from [Benjamin et al., 2018](https://www.ncbi.nlm.nih.gov/pmc/articles/PMC6060269/pdf/fncom-12-00056.pdf)) used in the paper. Time-windows were set at 50 ms. The experiments were center-out reaching tasks.\n",
    "+ [Monkey V1](http://bethgelab.org/datasets/v1gratings/) from the Bethge Lab, which were used in the following papers ([1](http://bethgelab.org/media/publications/EckerEtAl2010_all.pdf), [2](http://bethgelab.org/media/publications/BerensEtAl2012.pdf)). Monkey brain activity in the visual cortex was monitored while the animals watched static gratings, or moving gratings in the direction orthogonal to their orientation. Time-windows were set at 10 ms."
   ]
  },
  {
   "cell_type": "markdown",
   "metadata": {},
   "source": [
    "### Loading datasets"
   ]
  },
  {
   "cell_type": "markdown",
   "metadata": {},
   "source": [
    "#### Macaque M1\n",
    "\n",
    "This set is the one on which the authors performed their analysis. Figures in the paper relate to this dataset.\n",
    "\n",
    "I keep the same set of covariates used in the paper from [Benjamin et al.](https://www.ncbi.nlm.nih.gov/pmc/articles/PMC6060269/pdf/fncom-12-00056.pdf), that is, for every spike, the time bin, the hand position ($x$, $y$), the hand velocity ($x^.$, $y^.$), the hand direction $\\theta_p$, the velocity direction $\\theta_v$ (and the associated cosine functions), and usual hand-crafted features: the speed $\\sqrt{x^{.2}+y^{.2}}$ and the radial position $\\sqrt{x^2+y^2}$.\n",
    "\n",
    "Spikes are stored in a matrix *spikes_M1* of size $n \\times T$, where $n$ is the number of monitored neurons, and $T$ the number of time bins. The coefficient *spikes_M1[i,j]* is the spike count in time bin $j$ in neuron $i$."
   ]
  },
  {
   "cell_type": "code",
   "execution_count": 3,
   "metadata": {},
   "outputs": [
    {
     "data": {
      "text/html": [
       "<div>\n",
       "<style scoped>\n",
       "    .dataframe tbody tr th:only-of-type {\n",
       "        vertical-align: middle;\n",
       "    }\n",
       "\n",
       "    .dataframe tbody tr th {\n",
       "        vertical-align: top;\n",
       "    }\n",
       "\n",
       "    .dataframe thead th {\n",
       "        text-align: right;\n",
       "    }\n",
       "</style>\n",
       "<table border=\"1\" class=\"dataframe\">\n",
       "  <thead>\n",
       "    <tr style=\"text-align: right;\">\n",
       "      <th></th>\n",
       "      <th>time</th>\n",
       "      <th>handPos_x</th>\n",
       "      <th>handPos_y</th>\n",
       "      <th>handVel_x</th>\n",
       "      <th>handVel_y</th>\n",
       "      <th>velDir</th>\n",
       "      <th>cos_velDir</th>\n",
       "      <th>sin_velDir</th>\n",
       "      <th>speed</th>\n",
       "      <th>cos_PosDir</th>\n",
       "      <th>sin_PosDir</th>\n",
       "      <th>radial_Pos</th>\n",
       "    </tr>\n",
       "  </thead>\n",
       "  <tbody>\n",
       "    <tr>\n",
       "      <th>0</th>\n",
       "      <td>12.591</td>\n",
       "      <td>0.002905</td>\n",
       "      <td>-0.303636</td>\n",
       "      <td>-0.011201</td>\n",
       "      <td>-0.006237</td>\n",
       "      <td>-2.633523</td>\n",
       "      <td>-0.873685</td>\n",
       "      <td>-0.486491</td>\n",
       "      <td>0.012820</td>\n",
       "      <td>0.009568</td>\n",
       "      <td>-0.999954</td>\n",
       "      <td>0.303650</td>\n",
       "    </tr>\n",
       "    <tr>\n",
       "      <th>1</th>\n",
       "      <td>12.641</td>\n",
       "      <td>0.002260</td>\n",
       "      <td>-0.303869</td>\n",
       "      <td>-0.010743</td>\n",
       "      <td>-0.000833</td>\n",
       "      <td>-3.064245</td>\n",
       "      <td>-0.997010</td>\n",
       "      <td>-0.077271</td>\n",
       "      <td>0.010775</td>\n",
       "      <td>0.007437</td>\n",
       "      <td>-0.999972</td>\n",
       "      <td>0.303877</td>\n",
       "    </tr>\n",
       "    <tr>\n",
       "      <th>2</th>\n",
       "      <td>12.691</td>\n",
       "      <td>0.002399</td>\n",
       "      <td>-0.303631</td>\n",
       "      <td>0.017680</td>\n",
       "      <td>0.012094</td>\n",
       "      <td>0.599956</td>\n",
       "      <td>0.825360</td>\n",
       "      <td>0.564606</td>\n",
       "      <td>0.021420</td>\n",
       "      <td>0.007900</td>\n",
       "      <td>-0.999969</td>\n",
       "      <td>0.303641</td>\n",
       "    </tr>\n",
       "    <tr>\n",
       "      <th>3</th>\n",
       "      <td>12.741</td>\n",
       "      <td>0.004010</td>\n",
       "      <td>-0.302399</td>\n",
       "      <td>0.044667</td>\n",
       "      <td>0.038700</td>\n",
       "      <td>0.713933</td>\n",
       "      <td>0.755792</td>\n",
       "      <td>0.654812</td>\n",
       "      <td>0.059100</td>\n",
       "      <td>0.013258</td>\n",
       "      <td>-0.999912</td>\n",
       "      <td>0.302426</td>\n",
       "    </tr>\n",
       "    <tr>\n",
       "      <th>4</th>\n",
       "      <td>12.791</td>\n",
       "      <td>0.006386</td>\n",
       "      <td>-0.300673</td>\n",
       "      <td>0.042202</td>\n",
       "      <td>0.017021</td>\n",
       "      <td>0.383375</td>\n",
       "      <td>0.927408</td>\n",
       "      <td>0.374053</td>\n",
       "      <td>0.045505</td>\n",
       "      <td>0.021233</td>\n",
       "      <td>-0.999775</td>\n",
       "      <td>0.300741</td>\n",
       "    </tr>\n",
       "  </tbody>\n",
       "</table>\n",
       "</div>"
      ],
      "text/plain": [
       "     time  handPos_x  handPos_y  handVel_x  handVel_y    velDir  cos_velDir  \\\n",
       "0  12.591   0.002905  -0.303636  -0.011201  -0.006237 -2.633523   -0.873685   \n",
       "1  12.641   0.002260  -0.303869  -0.010743  -0.000833 -3.064245   -0.997010   \n",
       "2  12.691   0.002399  -0.303631   0.017680   0.012094  0.599956    0.825360   \n",
       "3  12.741   0.004010  -0.302399   0.044667   0.038700  0.713933    0.755792   \n",
       "4  12.791   0.006386  -0.300673   0.042202   0.017021  0.383375    0.927408   \n",
       "\n",
       "   sin_velDir     speed  cos_PosDir  sin_PosDir  radial_Pos  \n",
       "0   -0.486491  0.012820    0.009568   -0.999954    0.303650  \n",
       "1   -0.077271  0.010775    0.007437   -0.999972    0.303877  \n",
       "2    0.564606  0.021420    0.007900   -0.999969    0.303641  \n",
       "3    0.654812  0.059100    0.013258   -0.999912    0.302426  \n",
       "4    0.374053  0.045505    0.021233   -0.999775    0.300741  "
      ]
     },
     "execution_count": 3,
     "metadata": {},
     "output_type": "execute_result"
    }
   ],
   "source": [
    "m1_imported = scipy.io.loadmat('../data/m1_stevenson_2011.mat')\n",
    "data_m1 = pd.DataFrame()\n",
    "data_m1['time'] =  m1_imported['time'][0]\n",
    "data_m1['handPos_x'] =  m1_imported['handPos'][0]\n",
    "data_m1['handPos_y'] =  m1_imported['handPos'][1]\n",
    "data_m1['handVel_x'] =  m1_imported['handVel'][0]\n",
    "data_m1['handVel_y'] =  m1_imported['handVel'][1]\n",
    "#data_m1['spikes'] =  m1_imported['spikes'][0]\n",
    "## Covariates from the paper and notebook of the authors\n",
    "data_m1['velDir'] = np.arctan2(data_m1['handVel_y'], data_m1['handVel_x'])\n",
    "data_m1['cos_velDir'] = np.cos(data_m1['velDir'])\n",
    "data_m1['sin_velDir'] = np.sin(data_m1['velDir'])\n",
    "data_m1['speed'] = np.sqrt(data_m1['handVel_x'].values**2\n",
    "                           +data_m1['handVel_y'].values**2)\n",
    "r = np.arctan2(data_m1['handPos_y'], data_m1['handPos_x'])\n",
    "data_m1['cos_PosDir'] = np.cos(r)\n",
    "data_m1['sin_PosDir'] = np.sin(r)\n",
    "data_m1['radial_Pos'] = np.sqrt(data_m1['handPos_x'].values**2\n",
    "                                +data_m1['handPos_y'].values**2)\n",
    "data_m1.head()"
   ]
  },
  {
   "cell_type": "code",
   "execution_count": 4,
   "metadata": {},
   "outputs": [
    {
     "name": "stdout",
     "output_type": "stream",
     "text": [
      "There are 171 neurons and 15536 time bins.\n"
     ]
    }
   ],
   "source": [
    "spikes_M1 = m1_imported['spikes']\n",
    "nN, nT = np.shape(spikes_M1)\n",
    "print(\"There are \" + str(nN) + \" neurons and \" + str(nT) + \" time bins.\")"
   ]
  },
  {
   "cell_type": "markdown",
   "metadata": {},
   "source": [
    "#### Macaque S1\n",
    "\n",
    "I keep the same set of covariates used in the paper from [Benjamin et al.](https://www.ncbi.nlm.nih.gov/pmc/articles/PMC6060269/pdf/fncom-12-00056.pdf), that is, for every spike, the time bin, the hand position ($x$, $y$), the hand velocity ($x^.$, $y^.$), the hand direction $\\theta_p$, the velocity direction $\\theta_v$ (and the associated cosine functions), and usual hand-crafted features: the speed $\\sqrt{x^{.2}+y^{.2}}$ and the radial position $\\sqrt{x^2+y^2}$.\n",
    "\n",
    "Spikes are stored in a matrix *spikes_S1* of size $n \\times T$, where $n$ is the number of monitored neurons, and $T$ the number of time bins. The coefficient *spikes_S1[i,j]* is the spike count in time bin $j$ in neuron $i$."
   ]
  },
  {
   "cell_type": "code",
   "execution_count": 5,
   "metadata": {},
   "outputs": [
    {
     "data": {
      "text/html": [
       "<div>\n",
       "<style scoped>\n",
       "    .dataframe tbody tr th:only-of-type {\n",
       "        vertical-align: middle;\n",
       "    }\n",
       "\n",
       "    .dataframe tbody tr th {\n",
       "        vertical-align: top;\n",
       "    }\n",
       "\n",
       "    .dataframe thead th {\n",
       "        text-align: right;\n",
       "    }\n",
       "</style>\n",
       "<table border=\"1\" class=\"dataframe\">\n",
       "  <thead>\n",
       "    <tr style=\"text-align: right;\">\n",
       "      <th></th>\n",
       "      <th>handPos_x</th>\n",
       "      <th>handPos_y</th>\n",
       "      <th>handVel_x</th>\n",
       "      <th>handVel_y</th>\n",
       "      <th>velDir</th>\n",
       "      <th>cos_velDir</th>\n",
       "      <th>sin_velDir</th>\n",
       "      <th>speed</th>\n",
       "      <th>cos_PosDir</th>\n",
       "      <th>sin_PosDir</th>\n",
       "      <th>radial_Pos</th>\n",
       "    </tr>\n",
       "  </thead>\n",
       "  <tbody>\n",
       "    <tr>\n",
       "      <th>0</th>\n",
       "      <td>-0.416665</td>\n",
       "      <td>-31.236861</td>\n",
       "      <td>0.151037</td>\n",
       "      <td>0.150915</td>\n",
       "      <td>0.784996</td>\n",
       "      <td>0.707391</td>\n",
       "      <td>0.706822</td>\n",
       "      <td>0.213513</td>\n",
       "      <td>-0.013338</td>\n",
       "      <td>-0.999911</td>\n",
       "      <td>31.239640</td>\n",
       "    </tr>\n",
       "    <tr>\n",
       "      <th>1</th>\n",
       "      <td>-0.415795</td>\n",
       "      <td>-31.229589</td>\n",
       "      <td>-0.139471</td>\n",
       "      <td>0.110104</td>\n",
       "      <td>2.473325</td>\n",
       "      <td>-0.784897</td>\n",
       "      <td>0.619627</td>\n",
       "      <td>0.177693</td>\n",
       "      <td>-0.013313</td>\n",
       "      <td>-0.999911</td>\n",
       "      <td>31.232357</td>\n",
       "    </tr>\n",
       "    <tr>\n",
       "      <th>2</th>\n",
       "      <td>-0.428036</td>\n",
       "      <td>-31.237258</td>\n",
       "      <td>-0.355766</td>\n",
       "      <td>-0.396426</td>\n",
       "      <td>-2.302191</td>\n",
       "      <td>-0.667908</td>\n",
       "      <td>-0.744244</td>\n",
       "      <td>0.532656</td>\n",
       "      <td>-0.013701</td>\n",
       "      <td>-0.999906</td>\n",
       "      <td>31.240190</td>\n",
       "    </tr>\n",
       "    <tr>\n",
       "      <th>3</th>\n",
       "      <td>-0.444485</td>\n",
       "      <td>-31.255078</td>\n",
       "      <td>-0.243318</td>\n",
       "      <td>-0.276757</td>\n",
       "      <td>-2.291986</td>\n",
       "      <td>-0.660279</td>\n",
       "      <td>-0.751021</td>\n",
       "      <td>0.368508</td>\n",
       "      <td>-0.014220</td>\n",
       "      <td>-0.999899</td>\n",
       "      <td>31.258238</td>\n",
       "    </tr>\n",
       "    <tr>\n",
       "      <th>4</th>\n",
       "      <td>-0.449801</td>\n",
       "      <td>-31.253792</td>\n",
       "      <td>0.026628</td>\n",
       "      <td>0.287968</td>\n",
       "      <td>1.478588</td>\n",
       "      <td>0.092077</td>\n",
       "      <td>0.995752</td>\n",
       "      <td>0.289196</td>\n",
       "      <td>-0.014390</td>\n",
       "      <td>-0.999896</td>\n",
       "      <td>31.257029</td>\n",
       "    </tr>\n",
       "  </tbody>\n",
       "</table>\n",
       "</div>"
      ],
      "text/plain": [
       "   handPos_x  handPos_y  handVel_x  handVel_y    velDir  cos_velDir  \\\n",
       "0  -0.416665 -31.236861   0.151037   0.150915  0.784996    0.707391   \n",
       "1  -0.415795 -31.229589  -0.139471   0.110104  2.473325   -0.784897   \n",
       "2  -0.428036 -31.237258  -0.355766  -0.396426 -2.302191   -0.667908   \n",
       "3  -0.444485 -31.255078  -0.243318  -0.276757 -2.291986   -0.660279   \n",
       "4  -0.449801 -31.253792   0.026628   0.287968  1.478588    0.092077   \n",
       "\n",
       "   sin_velDir     speed  cos_PosDir  sin_PosDir  radial_Pos  \n",
       "0    0.706822  0.213513   -0.013338   -0.999911   31.239640  \n",
       "1    0.619627  0.177693   -0.013313   -0.999911   31.232357  \n",
       "2   -0.744244  0.532656   -0.013701   -0.999906   31.240190  \n",
       "3   -0.751021  0.368508   -0.014220   -0.999899   31.258238  \n",
       "4    0.995752  0.289196   -0.014390   -0.999896   31.257029  "
      ]
     },
     "execution_count": 5,
     "metadata": {},
     "output_type": "execute_result"
    }
   ],
   "source": [
    "s1_imported = scipy.io.loadmat('../data/s1_data.mat')\n",
    "data_s1 = pd.DataFrame()\n",
    "data_s1['handPos_x'] =  s1_imported['pos'].T[0]\n",
    "data_s1['handPos_y'] =  s1_imported['pos'].T[1]\n",
    "data_s1['handVel_x'] =  s1_imported['vel'].T[0]\n",
    "data_s1['handVel_y'] =  s1_imported['vel'].T[1]\n",
    "#data_s1['spikes'] =  s1_imported['spikes'][0]\n",
    "data_s1['velDir'] = np.arctan2(data_s1['handVel_y'], data_s1['handVel_x'])\n",
    "data_s1['cos_velDir'] = np.cos(data_s1['velDir'])\n",
    "data_s1['sin_velDir'] = np.sin(data_s1['velDir'])\n",
    "data_s1['speed'] = np.sqrt(data_s1['handVel_x'].values**2\n",
    "                           +data_s1['handVel_y'].values**2)\n",
    "r = np.arctan2(data_s1['handPos_y'], data_s1['handPos_x'])\n",
    "data_s1['cos_PosDir'] = np.cos(r)\n",
    "data_s1['sin_PosDir'] = np.sin(r)\n",
    "data_s1['radial_Pos'] = np.sqrt(data_s1['handPos_x'].values**2\n",
    "                                +data_s1['handPos_y'].values**2)\n",
    "data_s1.head()"
   ]
  },
  {
   "cell_type": "code",
   "execution_count": 6,
   "metadata": {},
   "outputs": [
    {
     "name": "stdout",
     "output_type": "stream",
     "text": [
      "There are 35129 neurons and 52 time bins.\n"
     ]
    }
   ],
   "source": [
    "spikes_S1 = s1_imported['spikes']\n",
    "nN, nT = np.shape(spikes_S1)\n",
    "print(\"There are \" + str(nN) + \" neurons and \" + str(nT) + \" time bins.\")"
   ]
  },
  {
   "cell_type": "markdown",
   "metadata": {},
   "source": [
    "#### Monkey V1\n",
    "\n",
    "The potential covariates are the (Michelson) contrast of the gratings (nonnegative integer numbers comprised between $0$ and $1$), the direction of the gratings in degrees (nonnegative integer numbers comprised between $0$ and $360$: in order to obtain the orientation of the gratings, one should substract $90$ modulo $360$).\n",
    "\n",
    "Given a considered single unit (the authors have ruled out cells which were not well-isolated, with more than $5$% of contamination) and a monkey, spikes are stored in a matrix *spikes_V1* of size $n \\times T$, where $n$ is the number of conditions (for the grating experiment), and $T$ the number of time bins. The coefficient *spikes_V1[i,j]* is the spike count in time bin $j$ in condition $i$."
   ]
  },
  {
   "cell_type": "code",
   "execution_count": 7,
   "metadata": {},
   "outputs": [
    {
     "data": {
      "text/html": [
       "<div>\n",
       "<style scoped>\n",
       "    .dataframe tbody tr th:only-of-type {\n",
       "        vertical-align: middle;\n",
       "    }\n",
       "\n",
       "    .dataframe tbody tr th {\n",
       "        vertical-align: top;\n",
       "    }\n",
       "\n",
       "    .dataframe thead th {\n",
       "        text-align: right;\n",
       "    }\n",
       "</style>\n",
       "<table border=\"1\" class=\"dataframe\">\n",
       "  <thead>\n",
       "    <tr style=\"text-align: right;\">\n",
       "      <th></th>\n",
       "      <th>contrast</th>\n",
       "      <th>direction</th>\n",
       "    </tr>\n",
       "  </thead>\n",
       "  <tbody>\n",
       "    <tr>\n",
       "      <th>0</th>\n",
       "      <td>100.0</td>\n",
       "      <td>0.0</td>\n",
       "    </tr>\n",
       "    <tr>\n",
       "      <th>1</th>\n",
       "      <td>100.0</td>\n",
       "      <td>22.5</td>\n",
       "    </tr>\n",
       "    <tr>\n",
       "      <th>2</th>\n",
       "      <td>100.0</td>\n",
       "      <td>45.0</td>\n",
       "    </tr>\n",
       "    <tr>\n",
       "      <th>3</th>\n",
       "      <td>100.0</td>\n",
       "      <td>67.5</td>\n",
       "    </tr>\n",
       "    <tr>\n",
       "      <th>4</th>\n",
       "      <td>100.0</td>\n",
       "      <td>90.0</td>\n",
       "    </tr>\n",
       "  </tbody>\n",
       "</table>\n",
       "</div>"
      ],
      "text/plain": [
       "   contrast  direction\n",
       "0     100.0        0.0\n",
       "1     100.0       22.5\n",
       "2     100.0       45.0\n",
       "3     100.0       67.5\n",
       "4     100.0       90.0"
      ]
     },
     "execution_count": 7,
     "metadata": {},
     "output_type": "execute_result"
    }
   ],
   "source": [
    "v1_grating_moving = scipy.io.loadmat(\"../data/bethge_lab_moving.mat\")\n",
    "v1_grating_static = scipy.io.loadmat(\"../data/bethge_lab_static.mat\")\n",
    "\n",
    "## Some data reformatting\n",
    "\n",
    "to_1D = lambda x : x.T.tolist()[0]\n",
    "\n",
    "def extract_spikes(resmat, subject=0, unit=0):\n",
    "    data_list, spikes_list = [], []\n",
    "    N = max(np.shape(resmat[\"data\"][:, 0]))\n",
    "    ## Index of selected monkey subject\n",
    "    i = max(0, min(subject, N-1))\n",
    "    ## Conditions for the grating experiment\n",
    "    data = pd.DataFrame()\n",
    "    data_mat = np.matrix(list(map(lambda x : list(map(float, x)), \n",
    "                                  resmat[\"data\"][:, 0][i][0][0][2].flatten())))\n",
    "    data[\"contrast\"] = to_1D(data_mat[:, 0])\n",
    "    data[\"direction\"] = to_1D(data_mat[:, 1])\n",
    "    ## Spike data (binned spikes)\n",
    "    ## single units x conditions x time bins x repetitions\n",
    "    ns, nc, nt, _ = np.shape(resmat[\"data\"][:, 0][i][0][0][5])\n",
    "    ## Index of selected single unit\n",
    "    unit = max(0, min(unit, ns-1))\n",
    "    spikes = np.zeros((nc, nt))\n",
    "    for c in range(nc):\n",
    "        ## Spike counts\n",
    "        spikes[c, :] = np.sum(resmat[\"data\"][:, 0][i][0][0][5][unit][c], axis=1)\n",
    "    return data, spikes\n",
    "\n",
    "data_V1m, spikes_V1m = extract_spikes(v1_grating_moving, subject=1, unit=0)\n",
    "data_V1s, spikes_V1s = extract_spikes(v1_grating_static, subject=1, unit=0)\n",
    "\n",
    "data_V1m.head()"
   ]
  },
  {
   "cell_type": "code",
   "execution_count": 8,
   "metadata": {},
   "outputs": [
    {
     "data": {
      "text/html": [
       "<div>\n",
       "<style scoped>\n",
       "    .dataframe tbody tr th:only-of-type {\n",
       "        vertical-align: middle;\n",
       "    }\n",
       "\n",
       "    .dataframe tbody tr th {\n",
       "        vertical-align: top;\n",
       "    }\n",
       "\n",
       "    .dataframe thead th {\n",
       "        text-align: right;\n",
       "    }\n",
       "</style>\n",
       "<table border=\"1\" class=\"dataframe\">\n",
       "  <thead>\n",
       "    <tr style=\"text-align: right;\">\n",
       "      <th></th>\n",
       "      <th>contrast</th>\n",
       "      <th>direction</th>\n",
       "    </tr>\n",
       "  </thead>\n",
       "  <tbody>\n",
       "    <tr>\n",
       "      <th>0</th>\n",
       "      <td>1.0</td>\n",
       "      <td>0.0</td>\n",
       "    </tr>\n",
       "    <tr>\n",
       "      <th>1</th>\n",
       "      <td>10.0</td>\n",
       "      <td>0.0</td>\n",
       "    </tr>\n",
       "    <tr>\n",
       "      <th>2</th>\n",
       "      <td>1.0</td>\n",
       "      <td>22.5</td>\n",
       "    </tr>\n",
       "    <tr>\n",
       "      <th>3</th>\n",
       "      <td>10.0</td>\n",
       "      <td>22.5</td>\n",
       "    </tr>\n",
       "    <tr>\n",
       "      <th>4</th>\n",
       "      <td>1.0</td>\n",
       "      <td>45.0</td>\n",
       "    </tr>\n",
       "  </tbody>\n",
       "</table>\n",
       "</div>"
      ],
      "text/plain": [
       "   contrast  direction\n",
       "0       1.0        0.0\n",
       "1      10.0        0.0\n",
       "2       1.0       22.5\n",
       "3      10.0       22.5\n",
       "4       1.0       45.0"
      ]
     },
     "execution_count": 8,
     "metadata": {},
     "output_type": "execute_result"
    }
   ],
   "source": [
    "data_V1s.head()"
   ]
  },
  {
   "cell_type": "markdown",
   "metadata": {},
   "source": [
    "#### Testing the Poisson statistics assumption"
   ]
  },
  {
   "cell_type": "code",
   "execution_count": 23,
   "metadata": {},
   "outputs": [
    {
     "data": {
      "image/png": "[encoded data removed]",
      "text/plain": [
       "<matplotlib.figure.Figure at 0x7f0c56ec8dd0>"
      ]
     },
     "metadata": {
      "needs_background": "light"
     },
     "output_type": "display_data"
    },
    {
     "name": "stdout",
     "output_type": "stream",
     "text": [
      "Remove categories from test: [3, 4]\n",
      "Goodness-of-fit (Pearson's chi square test): p-value = 2.95158847686e-10\n"
     ]
    },
    {
     "data": {
      "image/png": "[encoded data removed]",
      "text/plain": [
       "<matplotlib.figure.Figure at 0x7f0c5719f5d0>"
      ]
     },
     "metadata": {
      "needs_background": "light"
     },
     "output_type": "display_data"
    },
    {
     "name": "stdout",
     "output_type": "stream",
     "text": [
      "Remove categories from test: [3]\n",
      "Goodness-of-fit (Pearson's chi square test): p-value = 1.76222193939e-28\n"
     ]
    },
    {
     "name": "stderr",
     "output_type": "stream",
     "text": [
      "/usr/local/lib/python2.7/dist-packages/ipykernel_launcher.py:25: RuntimeWarning: invalid value encountered in power\n"
     ]
    },
    {
     "data": {
      "image/png": "[encoded data removed]",
      "text/plain": [
       "<matplotlib.figure.Figure at 0x7f0c5742b890>"
      ]
     },
     "metadata": {
      "needs_background": "light"
     },
     "output_type": "display_data"
    },
    {
     "name": "stdout",
     "output_type": "stream",
     "text": [
      "Goodness-of-fit (Pearson's chi square test): p-value = 5.43234714179e-54\n"
     ]
    },
    {
     "data": {
      "image/png": "[encoded data removed]",
      "text/plain": [
       "<matplotlib.figure.Figure at 0x7f0c5742cc90>"
      ]
     },
     "metadata": {
      "needs_background": "light"
     },
     "output_type": "display_data"
    },
    {
     "name": "stdout",
     "output_type": "stream",
     "text": [
      "Goodness-of-fit (Pearson's chi square test): p-value = 0.000107327343835\n"
     ]
    }
   ],
   "source": [
    "## Check the form of the spike statistics for every of the four datasets above\n",
    "\n",
    "import matplotlib.pyplot as plt\n",
    "from scipy.optimize import curve_fit\n",
    "from scipy.special import factorial\n",
    "from scipy.stats import chisquare, poisson\n",
    "\n",
    "neuron_ID = 0\n",
    "\n",
    "## Generalized linear model\n",
    "def poisson_regression(X, Y):\n",
    "    logY = np.log(Y)\n",
    "    print(logY)\n",
    "    print(X)\n",
    "    beta = np.linalg.lstsq(np.matrix(X), logY)\n",
    "    lbd = np.exp(X.dot(beta))\n",
    "    return lbd\n",
    "\n",
    "m1_spikes = spikes_M1[neuron_ID]\n",
    "s1_spikes = spikes_S1[neuron_ID]\n",
    "s_spikes = spikes_V1m[neuron_ID]\n",
    "m_spikes = spikes_V1s[neuron_ID]\n",
    "\n",
    "def poisson_pdf(k, lamb):\n",
    "    return (lamb**k/factorial(k)) * np.exp(-lamb)\n",
    "\n",
    "## Source: https://stackoverflow.com/questions/25828184/fitting-to-poisson-histogram\n",
    "def fit_poisson(data, title, nbins, range_):\n",
    "        n = 100\n",
    "        ## The y-axis of the histogram is a probability\n",
    "        entries, bin_edges, patches = plt.hist(data, bins=nbins, \n",
    "                                               density=True, range=range_)\n",
    "        bin_middles = 0.5*(bin_edges[1:] + bin_edges[:-1])\n",
    "        parameters, cov_matrix = curve_fit(poisson_pdf, bin_middles, entries) \n",
    "        x_plot = np.linspace(range_[0], range_[1]*1.5, 1000)\n",
    "        plt.plot(x_plot, poisson_pdf(x_plot, *parameters), 'r-', lw=2)\n",
    "        plt.title(\"Testing Poisson statistics with dataset \" + title)\n",
    "        plt.legend([\"Fitted Poisson with lambda = \" + str(round(parameters[0], 2)),\n",
    "                    \"Histogramme of spike counts\"])\n",
    "        plt.show()\n",
    "        ntry = 1000\n",
    "        ## Expected frequencies (between 0 and 100)\n",
    "        f_exp = [sum([poisson_pdf(b, parameters[0])\n",
    "                      *n for _ in range(ntry)])/float(ntry)\n",
    "                 for b in bin_edges[1:]]\n",
    "        entries = list(map(lambda x : x*n, entries))\n",
    "        ## Chi-square can be applied only if all observed categories have count > 5\n",
    "        remove_idx = list(filter(lambda i : entries[i] < 5, range(len(entries))))\n",
    "        if (len(remove_idx) > 0):\n",
    "            print(\"Remove categories from test: \" + str(remove_idx))\n",
    "        entries = list(filter(lambda x :x , \n",
    "                              [entries[i] if (i not in remove_idx) else None \n",
    "                               for i in range(len(entries))]))\n",
    "        f_exp = list(filter(lambda x:x, [f_exp[i] if (i not in remove_idx)\n",
    "                                         else None for i in range(len(entries))]))\n",
    "        cs = chisquare(entries, f_exp=f_exp)\n",
    "        print(\"Goodness-of-fit (Pearson's chi square test): p-value = \" \n",
    "              + str(cs.pvalue))\n",
    "\n",
    "fit_poisson(m1_spikes, title=\"Macaque M1\", nbins=5, range_=[0., 5.0])\n",
    "fit_poisson(s1_spikes, title=\"Macaque S1\", nbins=4, range_=[0., 4.0])\n",
    "fit_poisson(m_spikes, title=\"Monkey V1 with moving gratings\", nbins=2, \n",
    "            range_=[0., 1.5])\n",
    "fit_poisson(s_spikes, title=\"Monkey V1 with static gratings\", nbins=6, \n",
    "            range_=[0., 5.0])"
   ]
  },
  {
   "cell_type": "markdown",
   "metadata": {},
   "source": [
    "Assuming a standard p-value threshold of $0.05$ (probability of $5$% of incorrectly rejecting the null hypothesis), the null hypothesis \"the empirical distribution of spike counts is a Poisson distribution\" is rejected in all datasets.\n",
    "\n",
    "It might be due to the fact that neuron spiking is not a proper Poisson process:\n",
    "\n",
    "+ There is some type of memory of previous spikes: with, on the one hand, if we look at neuron populations, the phenomenon of \"synaptic plasticity\", where connections between neurons become stronger as the two neurons are fired together, and, on the other hand, when we focus on individual cells, the existence of the refractory period, that is, the period of neuron inactivity after a spike. \n",
    "+ It might be due to the fact that all datasets were recorded during experiments when there was an external stimulus (thus, the spike counts recorded are not a \"spontaneous\" event, but are induced by the stimuli). Thus, the firing rate of a cell might not be time-homogenous. In class, we saw a simple neuron spiking model, where the firing rate was a function of the time as well as of the stimulus. Here, I have tried to fit a homogenous Poisson distribution to the data."
   ]
  },
  {
   "cell_type": "markdown",
   "metadata": {},
   "source": [
    "# 1. Replication of the results in the paper with the new datasets"
   ]
  },
  {
   "cell_type": "code",
   "execution_count": 9,
   "metadata": {},
   "outputs": [],
   "source": [
    "glm_model = MLencoding(tunemodel = 'glm')\n",
    "\n",
    "## Finetuning parameters for GLM\n",
    "from hyperopt import fmin, hp, Trials, tpe, STATUS_OK\n",
    "\n",
    "space4glm = {\n",
    "    'learning_rate': hp.uniform('learning_rate', 0.1, 3),\n",
    "    'eta': hp.uniform('eta', 0.1, 3),\n",
    "}\n",
    "\n",
    "#function to minimize\n",
    "def fnc_glm(params, X, y):\n",
    "    glm_model.set_params(params)\n",
    "    Y_hat, PR2s = glm_model.fit_cv(X,y, n_cv = 5, verbose = 0)\n",
    "    return -np.mean(PR2s)"
   ]
  },
  {
   "cell_type": "code",
   "execution_count": 10,
   "metadata": {},
   "outputs": [],
   "source": [
    "nn_model = MLencoding(tunemodel = 'feedforward_nn')\n",
    "\n",
    "## Finetuning parameters for NN\n",
    "from hyperopt import fmin, hp, Trials, tpe, STATUS_OK\n",
    "\n",
    "space4nn = {\n",
    "    'dropout': hp.uniform('dropout', 0., 0.6),\n",
    "    'n1': hp.uniform('n1', 2,128),\n",
    "    'n2': hp.uniform('n2', 1,15),\n",
    "}\n",
    "\n",
    "#function to minimize\n",
    "def fnc_nn(params, X, y):\n",
    "    ## Size of each of the two layers of the network (see mlencoding.py)\n",
    "    params['n1'] = int(params['n1'])\n",
    "    params['n2'] = int(params['n2'])\n",
    "    nn_model.set_params(params)\n",
    "    Y_hat, PR2s = nn_model.fit_cv(X,y, n_cv = 5, verbose = 0)\n",
    "    return -np.mean(PR2s)"
   ]
  },
  {
   "cell_type": "code",
   "execution_count": 11,
   "metadata": {},
   "outputs": [],
   "source": [
    "xgboost_model = MLencoding(tunemodel = 'xgboost', window = 50, n_filters = 2,\n",
    "                           max_time = 250)\n",
    "\n",
    "## Finetuning parameters for XGboost\n",
    "from hyperopt import fmin, hp, Trials, tpe, STATUS_OK\n",
    "\n",
    "space4xgboost = {\n",
    "    'learning_rate': hp.uniform('learning_rate', 0.01, 1.0),\n",
    "    'gamma': hp.uniform('eta', 0.1, 1.0),\n",
    "}\n",
    "\n",
    "#function to minimize\n",
    "def fnc_xgb(params, X, y):\n",
    "    xgboost_model.set_params(params)\n",
    "    Y_hat, PR2s = xgboost_model.fit_cv(X,y, n_cv = 5, verbose = 0)\n",
    "    return -np.mean(PR2s)"
   ]
  },
  {
   "cell_type": "code",
   "execution_count": 12,
   "metadata": {},
   "outputs": [],
   "source": [
    "neuron_n = 0\n",
    "\n",
    "X_M1 = data_m1[['handPos_x','handPos_y','handVel_x','handVel_y']].values\n",
    "y_M1 = spikes_M1[neuron_n]\n",
    "X_S1 = data_s1[['handPos_x','handPos_y','handVel_x','handVel_y']].values\n",
    "y_S1 = spikes_S1[neuron_n]\n",
    "X_V1m = data_V1m[['contrast','direction']].values\n",
    "y_V1m = spikes_V1m[neuron_n]\n",
    "X_V1s = data_V1s[['contrast','direction']].values\n",
    "y_V1s = spikes_V1s[neuron_n]"
   ]
  },
  {
   "cell_type": "code",
   "execution_count": 13,
   "metadata": {},
   "outputs": [],
   "source": [
    "## For each method and each dataset, record the mean pseudo R^2 value\n",
    "## and the confidence interval\n",
    "PR2_values = np.zeros((3, 3, 2))\n",
    "K = 5 # crossvalidation folds\n",
    "max_evals=10"
   ]
  },
  {
   "cell_type": "code",
   "execution_count": 46,
   "metadata": {},
   "outputs": [
    {
     "name": "stdout",
     "output_type": "stream",
     "text": [
      "----------- Dataset #1\n",
      "----------- GLM\n",
      "100%|██████████| 10/10 [07:52<00:00, 42.31s/it, best loss: -0.0198458099128]\n",
      "{'learning_rate': 2.971686123681141, 'eta': 2.5797169040256285}\n",
      "('...runnning cv-fold', 1, 'of', 5)\n",
      "('pR2: ', 0.017126228740941274)\n",
      "('...runnning cv-fold', 2, 'of', 5)\n",
      "('pR2: ', 0.028805402405215452)\n",
      "('...runnning cv-fold', 3, 'of', 5)\n",
      "('pR2: ', 0.017547008507770356)\n",
      "('...runnning cv-fold', 4, 'of', 5)\n",
      "('pR2: ', 0.020179465803447538)\n",
      "('...runnning cv-fold', 5, 'of', 5)\n",
      "('pR2: ', 0.015570944106404139)\n",
      "pR2_cv: 0.019846 (+/- 0.002110)\n",
      "----------- FEEDFORWARD NEURAL NETWORK\n",
      "100%|██████████| 10/10 [30:58<00:00, 202.35s/it, best loss: -0.0284893403712]\n",
      "{'n1': 116.83200940591844, 'dropout': 0.5020170351520552, 'n2': 4.834142224899956}\n",
      "('...runnning cv-fold', 1, 'of', 5)\n",
      "('pR2: ', 0.027842347414478774)\n",
      "('...runnning cv-fold', 2, 'of', 5)\n",
      "('pR2: ', 0.042254808558475632)\n",
      "('...runnning cv-fold', 3, 'of', 5)\n",
      "('pR2: ', 0.021758949576386466)\n",
      "('...runnning cv-fold', 4, 'of', 5)\n",
      "('pR2: ', 0.026093525918554072)\n",
      "('...runnning cv-fold', 5, 'of', 5)\n",
      "('pR2: ', 0.021923126620701172)\n",
      "pR2_cv: 0.027975 (+/- 0.003363)\n",
      "----------- XGBOOST\n",
      "100%|██████████| 10/10 [00:34<00:00,  3.51s/it, best loss: -0.0430761753233]\n",
      "{'learning_rate': 0.03226336540158781, 'eta': 0.743058372887443}\n",
      "('...runnning cv-fold', 1, 'of', 5)\n",
      "('pR2: ', 0.042885811334723911)\n",
      "('...runnning cv-fold', 2, 'of', 5)\n",
      "('pR2: ', 0.063248041921343368)\n",
      "('...runnning cv-fold', 3, 'of', 5)\n",
      "('pR2: ', 0.039829533321270594)\n",
      "('...runnning cv-fold', 4, 'of', 5)\n",
      "('pR2: ', 0.041701778871648276)\n",
      "('...runnning cv-fold', 5, 'of', 5)\n",
      "('pR2: ', 0.02811904044564506)\n",
      "pR2_cv: 0.043157 (+/- 0.005072)\n"
     ]
    }
   ],
   "source": [
    "def results(i):\n",
    "    print(\"----------- Dataset #\" + str(i+1))\n",
    "    if (i==0):\n",
    "        X, y = X_M1, y_M1\n",
    "    if (i==1):\n",
    "        X, y = X_S1, y_S1\n",
    "    if (i==2):\n",
    "        X, y = X_V1m, y_V1m\n",
    "    if (i==3):\n",
    "        X, y = X_V1s, y_V1s\n",
    "    if (i < 0 or i > 3):\n",
    "        raise ValueError\n",
    "    print(\"----------- GLM\")\n",
    "    trials = Trials() #for hyperparameter search\n",
    "    hyperoptBest = fmin(lambda params : fnc_glm(params, X, y), \n",
    "                        space4glm, algo=tpe.suggest, \n",
    "                       max_evals=max_evals, trials=trials)\n",
    "    print(hyperoptBest)\n",
    "    glm_model.set_params(hyperoptBest)\n",
    "    _, PR2s = glm_model.fit_cv(X, y, n_cv = K, verbose = 2)\n",
    "    PR2_values[i, 0, :] = [np.mean(PR2s), np.std(PR2s)/np.sqrt(K)]\n",
    "    print(\"----------- FEEDFORWARD NEURAL NETWORK\")\n",
    "    trials = Trials() #for hyperparameter search\n",
    "    hyperoptBest = fmin(lambda params : fnc_nn(params, X, y), \n",
    "                        space4nn, algo=tpe.suggest, \n",
    "                        max_evals=max_evals, trials=trials)\n",
    "    print(hyperoptBest)\n",
    "    nn_model.set_params({'n1': int(hyperoptBest[\"n1\"]), \n",
    "                         'dropout': hyperoptBest[\"dropout\"], \n",
    "                         'n2': int(hyperoptBest[\"n2\"])})\n",
    "    _, PR2s = nn_model.fit_cv(X,y, n_cv = K, verbose = 2)\n",
    "    PR2_values[i, 1, :] = [np.mean(PR2s), np.std(PR2s)/np.sqrt(K)]\n",
    "    print(\"----------- XGBOOST\")\n",
    "    trials = Trials() #for hyperparameter search\n",
    "    hyperoptBest = fmin(lambda params : fnc_xgb(params, X, y), \n",
    "                        space4xgboost, algo=tpe.suggest, \n",
    "                        max_evals=max_evals, trials=trials)\n",
    "    print(hyperoptBest)\n",
    "    xgboost_model.set_params(hyperoptBest)\n",
    "    _, PR2s = xgboost_model.fit_cv(X,y, n_cv = K, verbose = 2)\n",
    "    PR2_values[i, 2, :] = [np.mean(PR2s), np.std(PR2s)/np.sqrt(K)]\n",
    "    \n",
    "results(0)"
   ]
  },
  {
   "cell_type": "code",
   "execution_count": 14,
   "metadata": {},
   "outputs": [],
   "source": [
    "datasets = [\"Macaque M1\", \"Macaque S1\", \"Monkey V1 moving gratings\",\n",
    "            \"Monkey V1 static gratings\"]\n",
    "methods = [\"GLM\", \"Neural Net\", \"XGBoost\"]\n",
    "\n",
    "import matplotlib.pyplot as plt\n",
    "\n",
    "def plot_error_bars(dataset):\n",
    "    d_idx = datasets.index(dataset)\n",
    "    plt.errorbar(range(3), PR2_values[d_idx, :, 0], \n",
    "                 yerr=PR2_values[d_idx, :, 1], fmt='o')\n",
    "    plt.plot(range(3), [0.10]*3, \"y--\")\n",
    "    plt.plot(range(3), [0.11]*3, \"g--\")\n",
    "    plt.plot(range(3), [0.16]*3, \"r--\")\n",
    "    plt.title(\"Mean pseudo R^2 value (+- std) for all methods\\n\" + str(methods) \n",
    "              + \" in dataset \" + dataset\n",
    "              +\"\\nwhen considering all available covariates (neuron 1)\")\n",
    "    plt.legend([\"mean pseudo R^2 value for GLM (paper)\", \n",
    "                \"mean pseudo R^2 value for Neural Net (paper)\", \n",
    "                \"mean pseudo R^2 value for XGBoost (paper)\", \"Error bars\"],\n",
    "              bbox_to_anchor=(1.1, 1.05))\n",
    "    plt.xticks(range(3), methods)\n",
    "    plt.show()\n",
    "\n",
    "def plot_error_bars2(dataset):\n",
    "    d_idx = datasets.index(dataset)\n",
    "    plt.errorbar(range(3), PR2_values[d_idx, :, 0], \n",
    "                 yerr=PR2_values[d_idx, :, 1], fmt='o')\n",
    "    plt.title(\"Mean pseudo R^2 value (+- std) for all methods\\n\" + str(methods) \n",
    "              + \" in dataset \" + dataset\n",
    "              +\"\\nwhen considering all available covariates (neuron 1)\")\n",
    "    plt.legend([\"Error bars\"], bbox_to_anchor=(1.1, 1.05))\n",
    "    plt.xticks(range(3), methods)\n",
    "    plt.show()\n"
   ]
  },
  {
   "cell_type": "code",
   "execution_count": 48,
   "metadata": {},
   "outputs": [
    {
     "data": {
      "image/png": "[encoded data removed]",
      "text/plain": [
       "<matplotlib.figure.Figure at 0x7f9ab2c3a710>"
      ]
     },
     "metadata": {
      "needs_background": "light"
     },
     "output_type": "display_data"
    }
   ],
   "source": [
    "plot_error_bars(datasets[0])"
   ]
  },
  {
   "cell_type": "markdown",
   "metadata": {},
   "source": [
    "I have tried to reproduce the results in Figure 5 of the paper above, page 8 of this [version](https://www.ncbi.nlm.nih.gov/pmc/articles/PMC6060269/pdf/fncom-12-00056.pdf). The results I have obtained are far worse than the ones shown in the paper. I think that the main issue with my results is that Hyperopt search (that is, the automatic exploration of values for parameters for each method) does not give as good results as manual parameter fine-tuning (increasing the number of trials, that is, *max_evals* to $50$ seem not to help).\n",
    "\n",
    "Nonetheless, I obtain the same qualitative results as in the paper (although the mean pseudo R^2 values are still bad), with Gradient-boosted trees, and Neural Nets, performing far better than GLM."
   ]
  },
  {
   "cell_type": "code",
   "execution_count": 49,
   "metadata": {},
   "outputs": [
    {
     "data": {
      "image/png": "[encoded data removed]",
      "text/plain": [
       "<matplotlib.figure.Figure at 0x7f9ab2c1ffd0>"
      ]
     },
     "metadata": {
      "needs_background": "light"
     },
     "output_type": "display_data"
    }
   ],
   "source": [
    "plot_error_bars2(datasets[0])"
   ]
  }
 ],
 "metadata": {
  "anaconda-cloud": {},
  "kernelspec": {
   "display_name": "Python 2",
   "language": "python",
   "name": "python2"
  },
  "language_info": {
   "codemirror_mode": {
    "name": "ipython",
    "version": 2
   },
   "file_extension": ".py",
   "mimetype": "text/x-python",
   "name": "python",
   "nbconvert_exporter": "python",
   "pygments_lexer": "ipython2",
   "version": "2.7.14+"
  }
 },
 "nbformat": 4,
 "nbformat_minor": 1
}
